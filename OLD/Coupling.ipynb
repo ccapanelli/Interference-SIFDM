{
 "cells": [
  {
   "cell_type": "markdown",
   "id": "7016bb7f",
   "metadata": {},
   "source": [
    "This notebook may be used to...\n",
    "* Determine the required coupling strength given desired core radius and DM mass (using Rindler-Daller $R_{TF}$)\n",
    "* Return relevant simulation units given the coupling, and average density.\n",
    "\n",
    "### Physical Coupling"
   ]
  },
  {
   "cell_type": "code",
   "execution_count": 56,
   "id": "617a5412",
   "metadata": {},
   "outputs": [
    {
     "name": "stdout",
     "output_type": "stream",
     "text": [
      "Required coupling for R = 50 pc, and m = 1e-18 eV:\n",
      "\n",
      "g = 5.196923494922621e-43 eV^-2\n"
     ]
    }
   ],
   "source": [
    "import numpy as np\n",
    "\n",
    "R_core = 50# desired core radius in pc\n",
    "m = 1e-18 # DM particle mass in eV\n",
    "\n",
    "Mpl = 2.435323e27# reduced Planck mass eV\n",
    "m_conv = 1.1219e66 # eV per solar mass\n",
    "r_conv = 1.56e23 # eV^-1 per pc\n",
    "\n",
    "g_phys = (r_conv*R_core/np.pi)**2 * m**2/(2*Mpl**2)\n",
    "\n",
    "print(\"Required coupling for R = \"+str(R_core)+\" pc, and m = \"+str(m)+\" eV:\")\n",
    "print()\n",
    "print(\"g = \"+str(g_phys)+\" eV^-2\")"
   ]
  },
  {
   "cell_type": "markdown",
   "id": "5852f32a",
   "metadata": {},
   "source": [
    "### Simulation Parameters and Conversions\n",
    "\n",
    "Our dimensionless rescaling of the SE gives \n",
    "\n",
    "$$ i\\hat{\\psi}' = - \\frac{1}{2}\\hat{\\nabla}^2\\hat{\\psi}+\\hat{G}\\hat{\\Phi}\\hat{\\psi} + \\hat{g}\\hat{G}|\\hat{\\psi}|^2\\hat{\\psi}$$\n",
    "\n",
    "with dimensionless time $\\hat{t} = t/T$, such that\n",
    "\n",
    "$$ \\hat{g} = \\frac{g}{G_N}\\frac{1}{mT}$$\n",
    "\n",
    "\n",
    "Demanding a specific $\\hat{g}$ sets the dynamical time:"
   ]
  },
  {
   "cell_type": "code",
   "execution_count": 57,
   "id": "58057a28",
   "metadata": {},
   "outputs": [
    {
     "name": "stdout",
     "output_type": "stream",
     "text": [
      "dynamical time T =  7.746389390168731e+32 eV^-1,  ( 16.166030816145714  Gyr)\n",
      "\n",
      "coupling conversion factor:  5.1969234949226206e-42  eV^-2\n"
     ]
    }
   ],
   "source": [
    "from scipy.optimize import fsolve\n",
    "\n",
    "g_hat = .1 # choose dimensionless coupling (smaller values are more stable)\n",
    "\n",
    "G_N = 1/(8*np.pi*Mpl**2)\n",
    "hc = 6.582119569e-16 # eV s\n",
    "year = 3.154e7 # s\n",
    "\n",
    "\n",
    "\n",
    "T = (g_phys/G_N) * 1/(g_hat*m) # eV^-1\n",
    "\n",
    "\n",
    "print(\"dynamical time T = \",T, \"eV^-1,\", \" (\", T*hc/year/1e9,\" Gyr)\")\n",
    "print()\n",
    "print(\"coupling conversion factor: \", G_N*m*T, \" eV^-2\")"
   ]
  },
  {
   "cell_type": "markdown",
   "id": "8a8e8661",
   "metadata": {},
   "source": [
    "The physical wavefunction is scaled by units of\n",
    "\n",
    "$$\\psi_0 = \\frac{1}{\\sqrt{G_0 m }T} $$\n",
    "\n",
    "So the conversion is\n",
    "\n",
    "$$\\rho_0 =m\\psi_0^2= \\frac{1}{G_0T^2} = \\frac{\\hat{G}}{G_N T^2}$$.\n",
    "\n",
    "Choose the desired average dark matter density of the system (this is conserved over time):"
   ]
  },
  {
   "cell_type": "code",
   "execution_count": 58,
   "id": "360cee94",
   "metadata": {},
   "outputs": [
    {
     "name": "stdout",
     "output_type": "stream",
     "text": [
      "Dimensionless psi^2 initial condition: 0.004025739302258719\n"
     ]
    }
   ],
   "source": [
    "rho_avg_phys = 1e-5 # eV^-4, chosen DM density (local MW DM density is ~1e-5)\n",
    "\n",
    "Ghat = 1e7 # dimensionless G_N, chosen to help sim stability and determine temporal resolution\n",
    "rho0 = (Ghat/G_N)/(T**2)\n",
    "\n",
    "rho_hat = rho_avg_phys/rho0 # average dimensionless density. Part of initial condition\n",
    "\n",
    "print(\"Dimensionless psi^2 initial condition:\",rho_hat)"
   ]
  },
  {
   "cell_type": "markdown",
   "id": "17149ee8",
   "metadata": {},
   "source": [
    "The simulation domain is a $r_0\\times r_0$ square, where \n",
    "\n",
    "$r_0 = \\sqrt{\\frac{T}{m}}$."
   ]
  },
  {
   "cell_type": "code",
   "execution_count": 59,
   "id": "fee9f098",
   "metadata": {},
   "outputs": [
    {
     "name": "stdout",
     "output_type": "stream",
     "text": [
      "Simulation domain r0 = 178.4124116152771  pc\n"
     ]
    }
   ],
   "source": [
    "r_0 = np.sqrt(T/m)\n",
    "\n",
    "print(\"Simulation domain r0 =\", r_0/r_conv, \" pc\")"
   ]
  },
  {
   "cell_type": "code",
   "execution_count": null,
   "id": "ed3851ab",
   "metadata": {},
   "outputs": [],
   "source": []
  }
 ],
 "metadata": {
  "kernelspec": {
   "display_name": "Python 3 (ipykernel)",
   "language": "python",
   "name": "python3"
  },
  "language_info": {
   "codemirror_mode": {
    "name": "ipython",
    "version": 3
   },
   "file_extension": ".py",
   "mimetype": "text/x-python",
   "name": "python",
   "nbconvert_exporter": "python",
   "pygments_lexer": "ipython3",
   "version": "3.9.13"
  }
 },
 "nbformat": 4,
 "nbformat_minor": 5
}
